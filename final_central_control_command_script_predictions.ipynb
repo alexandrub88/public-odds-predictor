{
  "cells": [
    {
      "cell_type": "code",
      "execution_count": 1,
      "metadata": {
        "colab": {
          "base_uri": "https://localhost:8080/"
        },
        "id": "0aL7L2at8Gc9",
        "outputId": "ca91ae8d-ee73-46bd-dff2-b355fdb1517b"
      },
      "outputs": [
        {
          "name": "stdout",
          "output_type": "stream",
          "text": [
            "Collecting python-dotenv\n",
            "  Downloading python_dotenv-1.0.1-py3-none-any.whl (19 kB)\n",
            "Installing collected packages: python-dotenv\n",
            "Successfully installed python-dotenv-1.0.1\n"
          ]
        }
      ],
      "source": [
        "!pip install python-dotenv"
      ]
    },
    {
      "cell_type": "code",
      "execution_count": null,
      "metadata": {
        "id": "adOz_FN64pnM"
      },
      "outputs": [],
      "source": [
        "import os\n",
        "import subprocess\n",
        "from dotenv import load_dotenv\n",
        "import pandas as pd\n",
        "\n",
        "# Specify the path to your .env file\n",
        "dotenv_path = '/content/drive/MyDrive/Colab Notebooks/prediction-data.env'\n",
        "\n",
        "# Load the specified .env file\n",
        "load_dotenv(dotenv_path=dotenv_path)\n",
        "\n",
        "# Retrieve variables from .env\n",
        "api_key = os.getenv('API_KEY')\n",
        "api_host = os.getenv('API_HOST')\n",
        "base_url = os.getenv('BASE_URL')\n",
        "output_file = os.getenv('OUTPUT_FILE')\n",
        "combined_predictions_and_bet_scores = os.getenv('COMBINED_PREDICTIONS_AND_BET_SCORES_FILEPATH')\n",
        "players_report_future_match = os.getenv('PLAYERS_REPORT_FUTURE_MATCH')\n",
        "combined_predictions_output_path = os.getenv('COMBINED_PREDICTIONS_OUTPUT_PATH')\n",
        "\n",
        "# Prediction scripts variables\n",
        "preprocessor_path_player_points = os.getenv('PREPROCESSOR_POINTS')\n",
        "model_path_player_points = os.getenv('MODEL_POINTS')\n",
        "preprocessor_path_player_turnovers = os.getenv('PREPROCESSOR_TURNOVERS')\n",
        "model_path_player_turnovers = os.getenv('MODEL_TURNOVERS')\n",
        "preprocessor_path_player_steals = os.getenv('PREPROCESSOR_STEALS')\n",
        "model_path_player_steals = os.getenv('MODEL_STEALS')\n",
        "preprocessor_path_player_assists = os.getenv('PREPROCESSOR_ASSISTS')\n",
        "model_path_player_assists = os.getenv('MODEL_ASSISTS')\n",
        "preprocessor_path_player_blocks = os.getenv('PREPROCESSOR_BLOCKS')\n",
        "model_path_player_blocks = os.getenv('MODEL_BLOCKS')\n",
        "preprocessor_path_player_tpm = os.getenv('PREPROCESSOR_TPM')\n",
        "model_path_player_tpm = os.getenv('MODEL_TPM')\n",
        "preprocessor_path_player_rebounds = os.getenv('PREPROCESSOR_REBOUNDS')\n",
        "model_path_player_rebounds = os.getenv('MODEL_REBOUNDS')\n",
        "preprocessor_path_player_fga = os.getenv('PREPROCESSOR_FGA')\n",
        "model_path_player_fga = os.getenv('MODEL_FGA')\n",
        "preprocessor_path_player_ftm = os.getenv('PREPROCESSOR_FTM')\n",
        "model_path_player_ftm = os.getenv('MODEL_FTM')\n",
        "predictions_output_file = os.getenv('PREDICTIONS_OUTPUT_FILE')\n",
        "historical_data_path = os.getenv('HISTORICAL_DATAPATH')\n",
        "\n",
        "def run_script(script_name, args):\n",
        "    try:\n",
        "        # Execute the script and capture output and errors\n",
        "        completed_process = subprocess.run(\n",
        "            ['python', script_name, *args],\n",
        "            check=True,\n",
        "            text=True,  # Ensure text mode for output and errors\n",
        "            stdout=subprocess.PIPE,  # Capture standard output\n",
        "            stderr=subprocess.PIPE   # Capture standard error\n",
        "        )\n",
        "        # Print the output\n",
        "        print(\"Script Output:\\n\", completed_process.stdout)\n",
        "    except subprocess.CalledProcessError as e:\n",
        "        # Print the error message if script execution fails\n",
        "        print(\"Script Error Output:\\n\", e.stderr)\n",
        "\n",
        "\n",
        "# Run each script with the required arguments\n",
        "# run_script('/content/drive/MyDrive/Colab Notebooks/generate_input_document_optimized.py', [api_key, api_host, base_url, output_file])\n",
        "run_script('/content/drive/MyDrive/Colab Notebooks/ou_player_predictor_probabilities_with_input_all_parameters.py', [preprocessor_path_player_points, model_path_player_points, preprocessor_path_player_turnovers, model_path_player_turnovers, preprocessor_path_player_steals, model_path_player_steals, preprocessor_path_player_assists, model_path_player_assists, preprocessor_path_player_blocks, model_path_player_blocks, preprocessor_path_player_tpm, model_path_player_tpm, preprocessor_path_player_rebounds, model_path_player_rebounds, preprocessor_path_player_fga, model_path_player_fga, preprocessor_path_player_ftm, model_path_player_ftm, historical_data_path, predictions_output_file])\n",
        "run_script('/content/drive/MyDrive/Colab Notebooks/final_data_comparator_for_all_criterias_with_actual_data_from_first_match.py', [combined_predictions_and_bet_scores, players_report_future_match, combined_predictions_output_path])\n",
        "\n",
        "print(\"All scripts executed successfully.\")"
      ]
    }
  ],
  "metadata": {
    "colab": {
      "provenance": []
    },
    "kernelspec": {
      "display_name": "Python 3.11.4 64-bit",
      "language": "python",
      "name": "python3"
    },
    "language_info": {
      "name": "python",
      "version": "3.11.4"
    },
    "vscode": {
      "interpreter": {
        "hash": "5c7b89af1651d0b8571dde13640ecdccf7d5a6204171d6ab33e7c296e100e08a"
      }
    }
  },
  "nbformat": 4,
  "nbformat_minor": 0
}
