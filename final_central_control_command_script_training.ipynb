{
  "cells": [
    {
      "cell_type": "code",
      "execution_count": 3,
      "metadata": {
        "colab": {
          "base_uri": "https://localhost:8080/"
        },
        "id": "JK_L70pU2HO_",
        "outputId": "adbd0759-ff5e-442d-fdba-b668137c497c"
      },
      "outputs": [
        {
          "name": "stdout",
          "output_type": "stream",
          "text": [
            "Collecting python-dotenv\n",
            "  Downloading python_dotenv-1.0.1-py3-none-any.whl (19 kB)\n",
            "Installing collected packages: python-dotenv\n",
            "Successfully installed python-dotenv-1.0.1\n"
          ]
        }
      ],
      "source": [
        "!pip install python-dotenv"
      ]
    },
    {
      "cell_type": "code",
      "execution_count": 4,
      "metadata": {
        "colab": {
          "base_uri": "https://localhost:8080/"
        },
        "id": "v-Ezlecq1k--",
        "outputId": "8885ddea-96fe-4487-8adc-441d26adb996"
      },
      "outputs": [
        {
          "name": "stdout",
          "output_type": "stream",
          "text": [
            "All scripts executed successfully.\n"
          ]
        }
      ],
      "source": [
        "import os\n",
        "import subprocess\n",
        "from dotenv import load_dotenv\n",
        "\n",
        "# Specify the path to your .env file\n",
        "dotenv_path = '/content/drive/MyDrive/Colab Notebooks/training-data.env'\n",
        "\n",
        "# Load the specified .env file\n",
        "load_dotenv(dotenv_path=dotenv_path)\n",
        "\n",
        "# Retrieve variables from .env\n",
        "training_dataset = os.getenv('TRAINING_DATASET')\n",
        "\n",
        "model_checkpoint_fga = os.getenv('MODEL_CHECKPOINT_FGA')\n",
        "model_fga_path = os.getenv('MODEL_FGA_PATH')\n",
        "preprocessor_fga_path = os.getenv('PREPROCESSOR_FGA_PATH')\n",
        "\n",
        "model_assists_path = os.getenv('MODEL_ASSISTS_PATH')\n",
        "preprocessor_assists_path = os.getenv('PREPROCESSOR_ASSISTS_PATH')\n",
        "\n",
        "model_blocks_path = os.getenv('MODEL_BLOCKS_PATH')\n",
        "preprocessor_blocks_path = os.getenv('PREPROCESSOR_BLOCKS_PATH')\n",
        "\n",
        "model_ftm_path = os.getenv('MODEL_FTM_PATH')\n",
        "preprocessor_ftm_path = os.getenv('PREPROCESSOR_FTM_PATH')\n",
        "\n",
        "model_checkpoint_points = os.getenv('MODEL_CHECKPOINT_POINTS')\n",
        "model_points_path = os.getenv('MODEL_POINTS_PATH')\n",
        "preprocessor_points_path = os.getenv('PREPROCESSOR_POINTS_PATH')\n",
        "\n",
        "model_checkpoint_rebounds = os.getenv('MODEL_CHECKPOINT_REBOUNDS')\n",
        "model_rebounds_path = os.getenv('MODEL_REBOUNDS_PATH')\n",
        "preprocessor_rebounds_path = os.getenv('PREPROCESSOR_REBOUNDS_PATH')\n",
        "\n",
        "model_steals_path = os.getenv('MODEL_STEALS_PATH')\n",
        "preprocessor_steals_path = os.getenv('PREPROCESSOR_STEALS_PATH')\n",
        "\n",
        "model_tpm_path = os.getenv('MODEL_TPM_PATH')\n",
        "preprocessor_tpm_path = os.getenv('PREPROCESSOR_TPM_PATH')\n",
        "\n",
        "model_turnovers_path = os.getenv('MODEL_TURNOVERS_PATH')\n",
        "preprocessor_turnovers_path = os.getenv('PREPROCESSOR_TURNOVERS_PATH')\n",
        "\n",
        "# Function to run a script\n",
        "def run_script(script_name, args):\n",
        "    subprocess.run(['python', script_name, *args], check=True)\n",
        "\n",
        "# Run each script with the required arguments\n",
        "run_script('/content/drive/MyDrive/Colab Notebooks/final_version_ou_player_total_fga_training_code_probabilities.py', [training_dataset, model_checkpoint_fga, model_fga_path, preprocessor_fga_path])\n",
        "run_script('/content/drive/MyDrive/Colab Notebooks/final_version_ou_player_total_assists_training_code_probabilities.py', [training_dataset, model_assists_path, preprocessor_assists_path])\n",
        "run_script('/content/drive/MyDrive/Colab Notebooks/final_version_ou_player_total_blocks_training_code_probabilities.py', [training_dataset, model_blocks_path, preprocessor_blocks_path])\n",
        "run_script('/content/drive/MyDrive/Colab Notebooks/final_version_ou_player_total_ftm_training_code_probabilities.py', [training_dataset, model_ftm_path, preprocessor_ftm_path])\n",
        "run_script('/content/drive/MyDrive/Colab Notebooks/final_version_ou_player_total_points_training_code_probabilities.py', [training_dataset, model_checkpoint_points, model_points_path, preprocessor_points_path])\n",
        "run_script('/content/drive/MyDrive/Colab Notebooks/final_version_ou_player_total_rebounds_training_code_probabilities.py', [training_dataset, model_checkpoint_rebounds, model_rebounds_path, preprocessor_rebounds_path])\n",
        "run_script('/content/drive/MyDrive/Colab Notebooks/final_version_ou_player_total_steals_training_code_probabilities.py', [training_dataset, model_steals_path, preprocessor_steals_path])\n",
        "run_script('/content/drive/MyDrive/Colab Notebooks/final_version_ou_player_total_tpm_training_code_probabilities.py', [training_dataset, model_tpm_path, preprocessor_tpm_path])\n",
        "run_script('/content/drive/MyDrive/Colab Notebooks/final_version_ou_player_total_turnovers_training_code_probabilities.py', [training_dataset, model_turnovers_path, preprocessor_turnovers_path])\n",
        "\n",
        "print(\"All scripts executed successfully.\")"
      ]
    }
  ],
  "metadata": {
    "accelerator": "TPU",
    "colab": {
      "provenance": []
    },
    "kernelspec": {
      "display_name": "Python 3.11.4 64-bit",
      "language": "python",
      "name": "python3"
    },
    "language_info": {
      "name": "python",
      "version": "3.11.4"
    },
    "vscode": {
      "interpreter": {
        "hash": "5c7b89af1651d0b8571dde13640ecdccf7d5a6204171d6ab33e7c296e100e08a"
      }
    }
  },
  "nbformat": 4,
  "nbformat_minor": 0
}
